{
 "cells": [
  {
   "cell_type": "code",
   "execution_count": 1,
   "metadata": {},
   "outputs": [],
   "source": [
    "import pandas as pd"
   ]
  },
  {
   "cell_type": "code",
   "execution_count": 2,
   "metadata": {},
   "outputs": [
    {
     "name": "stdout",
     "output_type": "stream",
     "text": [
      "         date   myr_usd   myr_rmb   myr_sgd   myr_eur    myr_jpy   myr_twd  \\\n",
      "0  2003-12-01  0.263380  2.177413  0.453461  0.220125  28.753161  8.359132   \n",
      "1  2003-12-02  0.263359  2.177241  0.452977  0.217850  28.635010  8.359132   \n",
      "2  2003-12-03  0.263838  2.181178  0.452773  0.217635  28.573691  8.359132   \n",
      "3  2003-12-04  0.263248  2.176271  0.451075  0.217903  28.501853  8.359132   \n",
      "4  2003-12-05  0.263880  2.181470  0.452290  0.216527  28.398777  8.359132   \n",
      "\n",
      "     myr_thb      myr_idr   myr_hkd  ...   myr_aed   myr_sar   myr_try  \\\n",
      "0  10.506216  2238.306086  2.045143  ...  0.966999  0.987621  0.353535   \n",
      "1  10.494587  2234.889529  2.043507  ...  0.966922  0.987543  0.353535   \n",
      "2  10.502612  2234.156621  2.047491  ...  0.968682  0.989341  0.353535   \n",
      "3  10.495695  2235.633105  2.044463  ...  0.966515  0.987127  0.353535   \n",
      "4  10.505859  2234.826884  2.047630  ...  0.968915  0.989498  0.353535   \n",
      "\n",
      "    myr_gbp   myr_brl   myr_mxn    myr_bdt   myr_chf   myr_cad   myr_rub  \n",
      "0  0.153253  0.769859  2.991467  14.910451  0.341893  0.343500  7.822377  \n",
      "1  0.152203  0.771905  2.973322  14.934028  0.338996  0.341471  7.819125  \n",
      "2  0.152675  0.773310  2.966862  14.980212  0.339085  0.343016  7.833360  \n",
      "3  0.152989  0.774739  2.945218  14.935109  0.339195  0.345223  7.813199  \n",
      "4  0.152259  0.774224  2.954665  14.977571  0.335761  0.343809  7.816129  \n",
      "\n",
      "[5 rows x 25 columns]\n"
     ]
    }
   ],
   "source": [
    "# Load the CSV data\n",
    "data = pd.read_csv('exchangerates.csv')\n",
    "print(data.head())"
   ]
  },
  {
   "cell_type": "code",
   "execution_count": 3,
   "metadata": {},
   "outputs": [
    {
     "name": "stdout",
     "output_type": "stream",
     "text": [
      "         date currency  exchange_rate\n",
      "0  2003-12-01  myr_usd       0.263380\n",
      "1  2003-12-02  myr_usd       0.263359\n",
      "2  2003-12-03  myr_usd       0.263838\n",
      "3  2003-12-04  myr_usd       0.263248\n",
      "4  2003-12-05  myr_usd       0.263880\n"
     ]
    }
   ],
   "source": [
    "# Melt the DataFrame\n",
    "melted_data = data.melt(id_vars=['date'], var_name='currency', value_name='exchange_rate')\n",
    "print(melted_data.head())"
   ]
  },
  {
   "cell_type": "code",
   "execution_count": 7,
   "metadata": {},
   "outputs": [
    {
     "name": "stdout",
     "output_type": "stream",
     "text": [
      "                date  exchange_rate\n",
      "currency                           \n",
      "myr_aed   2024-09-19       0.865731\n",
      "myr_aud   2024-09-19       0.348575\n",
      "myr_bdt   2024-09-19      27.799704\n",
      "myr_brl   2024-09-19       1.287516\n",
      "myr_cad   2024-09-19       0.320894\n",
      "myr_chf   2024-09-19       0.199764\n",
      "myr_eur   2024-09-19       0.212118\n",
      "myr_gbp   2024-09-19       0.178595\n",
      "myr_hkd   2024-09-19       1.837487\n",
      "myr_idr   2024-09-19    3607.261657\n",
      "myr_inr   2024-09-19      19.731629\n",
      "myr_jpy   2024-09-19      33.646118\n",
      "myr_krw   2024-09-19     311.743492\n",
      "myr_mxn   2024-09-19       4.536902\n",
      "myr_php   2024-09-19      13.122245\n",
      "myr_rmb   2024-09-19       1.669457\n",
      "myr_rub   2024-09-19      22.073016\n",
      "myr_sar   2024-09-19       0.884663\n",
      "myr_sgd   2024-09-19       0.305571\n",
      "myr_thb   2024-09-19       7.868207\n",
      "myr_try   2024-09-19       8.032725\n",
      "myr_twd   2024-09-19       7.492396\n",
      "myr_usd   2024-09-19       0.235766\n",
      "myr_vnd   2024-09-19    5764.470164\n"
     ]
    }
   ],
   "source": [
    "# I only want the most recent exchange rate for each currency\n",
    "latest_exchange_rate = melted_data.groupby('currency').last()\n",
    "print(latest_exchange_rate)"
   ]
  },
  {
   "cell_type": "code",
   "execution_count": 8,
   "metadata": {},
   "outputs": [
    {
     "name": "stdout",
     "output_type": "stream",
     "text": [
      "                date  exchange_rate               Country\n",
      "currency                                                 \n",
      "myr_aed   2024-09-19       0.865731  United Arab Emirates\n",
      "myr_aud   2024-09-19       0.348575             Australia\n",
      "myr_bdt   2024-09-19      27.799704            Bangladesh\n",
      "myr_brl   2024-09-19       1.287516                Brazil\n",
      "myr_cad   2024-09-19       0.320894                Canada\n",
      "myr_chf   2024-09-19       0.199764           Switzerland\n",
      "myr_eur   2024-09-19       0.212118              Eurozone\n",
      "myr_gbp   2024-09-19       0.178595        United Kingdom\n",
      "myr_hkd   2024-09-19       1.837487             Hong Kong\n",
      "myr_idr   2024-09-19    3607.261657             Indonesia\n",
      "myr_inr   2024-09-19      19.731629                 India\n",
      "myr_jpy   2024-09-19      33.646118                 Japan\n",
      "myr_krw   2024-09-19     311.743492           South Korea\n",
      "myr_mxn   2024-09-19       4.536902                Mexico\n",
      "myr_php   2024-09-19      13.122245           Philippines\n",
      "myr_rmb   2024-09-19       1.669457                 China\n",
      "myr_rub   2024-09-19      22.073016                Russia\n",
      "myr_sar   2024-09-19       0.884663          Saudi Arabia\n",
      "myr_sgd   2024-09-19       0.305571             Singapore\n",
      "myr_thb   2024-09-19       7.868207              Thailand\n",
      "myr_try   2024-09-19       8.032725                Turkey\n",
      "myr_twd   2024-09-19       7.492396                Taiwan\n",
      "myr_usd   2024-09-19       0.235766         United States\n",
      "myr_vnd   2024-09-19    5764.470164               Vietnam\n"
     ]
    }
   ],
   "source": [
    "# Example mapping (you'll need to complete this based on your dataset)\n",
    "currency_to_country = {\n",
    "    'myr_usd': 'United States',\n",
    "    'myr_rmb': 'China',\n",
    "    'myr_sgd': 'Singapore',\n",
    "    'myr_eur': 'Eurozone',\n",
    "    'myr_jpy': 'Japan',\n",
    "    'myr_twd': 'Taiwan',\n",
    "    'myr_thb': 'Thailand',\n",
    "    'myr_idr': 'Indonesia',\n",
    "    'myr_hkd': 'Hong Kong',\n",
    "    'myr_krw': 'South Korea',\n",
    "    'myr_vnd': 'Vietnam',\n",
    "    'myr_inr': 'India',\n",
    "    'myr_aud': 'Australia',\n",
    "    'myr_php': 'Philippines',\n",
    "    'myr_aed': 'United Arab Emirates',\n",
    "    'myr_sar': 'Saudi Arabia',\n",
    "    'myr_try': 'Turkey',\n",
    "    'myr_gbp': 'United Kingdom',\n",
    "    'myr_brl': 'Brazil',\n",
    "    'myr_mxn': 'Mexico',\n",
    "    'myr_bdt': 'Bangladesh',\n",
    "    'myr_chf': 'Switzerland',\n",
    "    'myr_cad': 'Canada',\n",
    "    'myr_rub': 'Russia'\n",
    "}\n",
    "\n",
    "# Map currency codes to country names\n",
    "latest_exchange_rate['Country'] = latest_exchange_rate.index.map(currency_to_country)\n",
    "print(latest_exchange_rate)"
   ]
  },
  {
   "cell_type": "code",
   "execution_count": 9,
   "metadata": {},
   "outputs": [],
   "source": [
    "# Save the transformed data\n",
    "latest_exchange_rate.reset_index(drop=True, inplace=True)\n",
    "latest_exchange_rate.to_csv('latest_exchange_rate.csv', index=False)"
   ]
  }
 ],
 "metadata": {
  "kernelspec": {
   "display_name": "Python 3",
   "language": "python",
   "name": "python3"
  },
  "language_info": {
   "codemirror_mode": {
    "name": "ipython",
    "version": 3
   },
   "file_extension": ".py",
   "mimetype": "text/x-python",
   "name": "python",
   "nbconvert_exporter": "python",
   "pygments_lexer": "ipython3",
   "version": "3.12.7"
  }
 },
 "nbformat": 4,
 "nbformat_minor": 2
}
